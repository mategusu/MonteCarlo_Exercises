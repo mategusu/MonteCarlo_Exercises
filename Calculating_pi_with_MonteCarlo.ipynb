{
 "cells": [
  {
   "cell_type": "markdown",
   "id": "9683425a-e727-4692-912f-50e8e8d25664",
   "metadata": {},
   "source": [
    "## Task:"
   ]
  },
  {
   "cell_type": "markdown",
   "id": "9b8e0830-c381-41b5-9491-e8c3920862f9",
   "metadata": {},
   "source": [
    "#### Write a Monte Carlo code to calculate a value of $\\pi$ using the “darts” rejection technique described in the lecture notes."
   ]
  },
  {
   "cell_type": "markdown",
   "id": "e43bd8ff-4e3e-4b7f-a7da-b029e312ec49",
   "metadata": {},
   "source": [
    "## Code:"
   ]
  },
  {
   "cell_type": "code",
   "execution_count": null,
   "id": "76bdcb64-57fd-4b15-9fdf-70f56f1fdeec",
   "metadata": {},
   "outputs": [],
   "source": [
    "program PIE\n",
    "    implicit none\n",
    "    real :: x, y, Ex, Ey\n",
    "    real, parameter :: R = 1\n",
    "    integer :: n, i\n",
    "    i = 0\n",
    "    do n = 1, 100000\n",
    "        call random_number(Ex)\n",
    "        x = (2 * Ex - 1) * R\n",
    "        call random_number(Ey)\n",
    "        y = (2 * Ey - 1) * R\n",
    "        if (x*x + y*y <= R*R) then\n",
    "            i = i + 1\n",
    "        end if\n",
    "    end do \n",
    "    !print *, i\n",
    "    !print *, n-1\n",
    "    print*, 'Darts launched =', n-1\n",
    "    print *, 'Pi approximation =', 4.0*real(i)/real((n-1))\n",
    "end program PIE"
   ]
  }
 ],
 "metadata": {
  "kernelspec": {
   "display_name": "",
   "name": ""
  },
  "language_info": {
   "name": ""
  }
 },
 "nbformat": 4,
 "nbformat_minor": 5
}
