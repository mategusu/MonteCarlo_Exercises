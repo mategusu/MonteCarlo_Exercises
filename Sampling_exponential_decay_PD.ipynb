{
 "cells": [
  {
   "cell_type": "markdown",
   "id": "b817797d-47d0-4d71-9596-f188fbc35e81",
   "metadata": {},
   "source": [
    "## Task:"
   ]
  },
  {
   "cell_type": "markdown",
   "id": "30d9299b-4a57-4bf7-b886-20ce57a6bc9f",
   "metadata": {},
   "source": [
    "#### Write a code to sample random optical depths from the probability distribution function $P(t) = e^{-t}$ and plot a histogram of the number of random optical depths versus $t$ creating an array to “bin” the randomly chosen optical depths into this array. Write out the array to a file and and plot it as a histogram."
   ]
  },
  {
   "cell_type": "markdown",
   "id": "3e1e1c73-e1bc-4fde-af5e-614c9aadf7c6",
   "metadata": {},
   "source": [
    "## Code:"
   ]
  },
  {
   "cell_type": "code",
   "execution_count": null,
   "id": "a1ea75be-d38b-4939-a891-ffce13c51a67",
   "metadata": {},
   "outputs": [],
   "source": [
    "program PDF\n",
    "    implicit none\n",
    "    real :: tau, E, bw, tmax !bw gives the bin width by which we divide to find the corresponding bin index\n",
    "    integer :: n, i, r, j, y ! number of bins, maximum optical depth, array index, number of data points\n",
    "    integer, allocatable, dimension(:) :: bins(:)\n",
    "    n = 100\n",
    "    tmax = 8\n",
    "    r = 10000\n",
    "    bw = tmax/REAL(n)\n",
    "    allocate(bins(n))\n",
    "    do j = 1,r\n",
    "        call random_number(E)\n",
    "        tau = -LOG(E)\n",
    "        if (tau <= tmax) then\n",
    "            i = FLOOR(tau/bw) + 1\n",
    "            bins(i) = bins(i) + 1\n",
    "        end if\n",
    "    end do\n",
    "    open(unit=1,file='testl1b.txt')\n",
    "    y = size(bins)\n",
    "    do j = 1,y\n",
    "        write(1,*) bins(j)\n",
    "    end do\n",
    "    close(1)\n",
    "    !print*, bins\n",
    "end program PDF"
   ]
  }
 ],
 "metadata": {
  "kernelspec": {
   "display_name": "",
   "name": ""
  },
  "language_info": {
   "name": ""
  }
 },
 "nbformat": 4,
 "nbformat_minor": 5
}
